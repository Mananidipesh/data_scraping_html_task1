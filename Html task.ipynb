{
 "cells": [
  {
   "cell_type": "markdown",
   "id": "3e40e2e5-c1e6-4393-8008-11c968f764f7",
   "metadata": {},
   "source": [
    "# 1) HTML"
   ]
  },
  {
   "cell_type": "raw",
   "id": "d6354c82-5cfc-4a09-acce-caf17170194c",
   "metadata": {},
   "source": [
    "Declares the web page to be written in html \n",
    "<html>...</html>"
   ]
  },
  {
   "cell_type": "markdown",
   "id": "51524b4b-110e-40d7-b02c-01719c4f7d6d",
   "metadata": {},
   "source": [
    "# 2) Head "
   ]
  },
  {
   "cell_type": "raw",
   "id": "b82585c6-1441-45b8-9c85-66d10723c7d5",
   "metadata": {},
   "source": [
    "Delimits the page's head\n",
    "<head> ...</head>"
   ]
  },
  {
   "cell_type": "markdown",
   "id": "c3818317-bd2c-4dc6-8fcd-047ad6b233db",
   "metadata": {},
   "source": [
    "# 3) Title"
   ]
  },
  {
   "cell_type": "raw",
   "id": "62c37730-3671-4097-811c-d9184bcb466f",
   "metadata": {},
   "source": [
    "Defines the title \n",
    "<title>..</title>"
   ]
  },
  {
   "cell_type": "markdown",
   "id": "3ff7425e-3544-44d8-81d2-d15b3caf6771",
   "metadata": {},
   "source": [
    "# 4) Body "
   ]
  },
  {
   "cell_type": "raw",
   "id": "368b70f7-5f06-4f31-8c5e-314541c97aa9",
   "metadata": {},
   "source": [
    "Delimits the body of the page\n",
    "<body> ...</body>"
   ]
  },
  {
   "cell_type": "markdown",
   "id": "70de06de-f4bf-4ba7-acf2-316b319f1ac0",
   "metadata": {},
   "source": [
    "# 5) bold"
   ]
  },
  {
   "cell_type": "raw",
   "id": "9b43df9b-3047-4de0-a577-1c4bf2ab4c3b",
   "metadata": {},
   "source": [
    "Set character in the bold\n",
    "<b>...</b>"
   ]
  },
  {
   "cell_type": "markdown",
   "id": "4e0009fb-172b-4162-98c5-66a8445ef4ed",
   "metadata": {},
   "source": [
    "# 6) Underline"
   ]
  },
  {
   "cell_type": "raw",
   "id": "835511e0-f425-4a55-88c3-97ae17061124",
   "metadata": {},
   "source": [
    "set the characters in underline \n",
    "<u> ...</u>"
   ]
  },
  {
   "cell_type": "markdown",
   "id": "dd3f2734-9d7e-48e5-9a1e-5cfceeca1527",
   "metadata": {},
   "source": [
    "# 7) Italics"
   ]
  },
  {
   "cell_type": "raw",
   "id": "47e6f204-f5cd-4d81-b0be-49c942cfbd56",
   "metadata": {},
   "source": [
    "set the characters in Italics\n",
    "<i> ..</i>"
   ]
  },
  {
   "cell_type": "markdown",
   "id": "0b1ae289-7b35-46c8-8fee-e65878e0d672",
   "metadata": {},
   "source": [
    "# 8) Center "
   ]
  },
  {
   "cell_type": "raw",
   "id": "af83a446-bc76-45a8-8d1e-f68e381229a6",
   "metadata": {},
   "source": [
    "Center characters on page horizantly \n",
    "<center> .... </center>"
   ]
  },
  {
   "cell_type": "markdown",
   "id": "6d589ffc-d8c7-4f1a-bca0-53515e0d4643",
   "metadata": {},
   "source": [
    "# 9) Unordered list"
   ]
  },
  {
   "cell_type": "raw",
   "id": "ea83cfdd-5d0b-4d07-9c9b-96dbe9897046",
   "metadata": {},
   "source": [
    "Brackets an unordered list\n",
    "<ul>...</ul>"
   ]
  },
  {
   "cell_type": "markdown",
   "id": "dc6563ef-77d2-4f37-8a01-11bb62eb1698",
   "metadata": {},
   "source": [
    "# 10) ordered list"
   ]
  },
  {
   "cell_type": "raw",
   "id": "06dbd319-6bd9-4d99-a4ac-e7cc26fb664a",
   "metadata": {},
   "source": [
    "Brackets a numbered list\n",
    "<ol>...</ol>"
   ]
  },
  {
   "cell_type": "markdown",
   "id": "1204f333-6aab-4209-b9da-dbe5c10e9890",
   "metadata": {},
   "source": [
    "# 11) List item"
   ]
  },
  {
   "cell_type": "raw",
   "id": "5099302f-1a4e-426f-a680-763b301d7d47",
   "metadata": {},
   "source": [
    "Brackets an item in an ordered or numbered list \n",
    "<li>...</li>"
   ]
  },
  {
   "cell_type": "markdown",
   "id": "e2132b4d-f6ce-4e63-b9a7-577f127e2924",
   "metadata": {},
   "source": [
    "# 12) Break"
   ]
  },
  {
   "cell_type": "raw",
   "id": "b31abf30-041c-46d3-a77d-a323dfc929b7",
   "metadata": {},
   "source": [
    "Forces a line break\n",
    "<br>"
   ]
  },
  {
   "cell_type": "markdown",
   "id": "f0d072e2-a757-4bd1-a2c6-10ea167c583c",
   "metadata": {},
   "source": [
    "# 13) Paragraph"
   ]
  },
  {
   "cell_type": "raw",
   "id": "f2872bea-2932-44b3-b798-9b36dc56cf2b",
   "metadata": {},
   "source": [
    "Starts a paragraph \n",
    "<p> ...</p> "
   ]
  },
  {
   "cell_type": "markdown",
   "id": "2073995b-7e54-4fda-adb4-f501fdd53168",
   "metadata": {},
   "source": [
    "# 14) Supertag "
   ]
  },
  {
   "cell_type": "raw",
   "id": "ca7fddc4-049b-4e0b-898a-f5c987031ded",
   "metadata": {},
   "source": [
    "to use supertag\n",
    "<sup> ...</sup>"
   ]
  },
  {
   "cell_type": "markdown",
   "id": "9ce15522-4dc9-4bab-862e-085b71a7f591",
   "metadata": {},
   "source": [
    "# 15) subtag"
   ]
  },
  {
   "cell_type": "raw",
   "id": "a8dcae29-81cc-44b2-9f3c-fed5041a55e5",
   "metadata": {},
   "source": [
    "to use subtag\n",
    "<sub>....</sub>"
   ]
  },
  {
   "cell_type": "markdown",
   "id": "b74add20-c6c6-49aa-b832-a689f15daaba",
   "metadata": {},
   "source": [
    "# 16) Delete"
   ]
  },
  {
   "cell_type": "raw",
   "id": "ac9c828f-24d8-40bc-852e-7ad402f7be9d",
   "metadata": {},
   "source": [
    "<del>...</del>"
   ]
  },
  {
   "cell_type": "markdown",
   "id": "875b11ad-9a69-4afa-bbdb-ab76820326c0",
   "metadata": {},
   "source": [
    "# 17) Comment tag"
   ]
  },
  {
   "cell_type": "raw",
   "id": "e5908688-adca-4d89-ad35-8dcfdc7e92cd",
   "metadata": {},
   "source": [
    "<!-- --!>"
   ]
  },
  {
   "cell_type": "markdown",
   "id": "985d36fe-7840-4d5f-8f8c-41c5520c65ce",
   "metadata": {},
   "source": [
    "# 18) Division"
   ]
  },
  {
   "cell_type": "raw",
   "id": "3cb7ed64-398f-4c45-b973-1819e95e58e8",
   "metadata": {},
   "source": [
    "A block-level container used to group elements together\n",
    "<div> .. </div>"
   ]
  },
  {
   "cell_type": "markdown",
   "id": "34e062d4-0810-425b-956f-e4ea8fdaa90f",
   "metadata": {},
   "source": [
    "# 19) Horizontal rule"
   ]
  },
  {
   "cell_type": "raw",
   "id": "61c83127-9ba6-4459-9de8-82acfcaab232",
   "metadata": {},
   "source": [
    "<hr>...</hr>"
   ]
  },
  {
   "cell_type": "markdown",
   "id": "f8f20fa0-563c-4a10-83df-1663e3048f76",
   "metadata": {},
   "source": [
    "# 20)  Hyperlink"
   ]
  },
  {
   "cell_type": "raw",
   "id": "662e4f64-7174-4076-93df-23b1dd4ac925",
   "metadata": {},
   "source": [
    "Defines a hyperlink \n",
    "<a href = \"..\">....</a>"
   ]
  },
  {
   "cell_type": "markdown",
   "id": "9f0e8d5d-aa6b-4f98-bd7e-8bf4d6380d4f",
   "metadata": {},
   "source": [
    "# 21) Image"
   ]
  },
  {
   "cell_type": "raw",
   "id": "51fae4fe-94e8-43a1-92d2-bbf497d4efcc",
   "metadata": {},
   "source": [
    "<img src = \"...\">"
   ]
  },
  {
   "cell_type": "markdown",
   "id": "33c83f28-0165-4ccc-b9a4-490597b727d4",
   "metadata": {},
   "source": [
    "# 22) Table"
   ]
  },
  {
   "cell_type": "raw",
   "id": "a0cf1a26-b806-49e6-8bc6-4a08e230af11",
   "metadata": {},
   "source": [
    " <table> defines a table.\n",
    " <tr> defines a table row.\n",
    " <td> defines a table data cell.\n",
    " <th> defines a table header cell"
   ]
  },
  {
   "cell_type": "code",
   "execution_count": null,
   "id": "06d8894e-2649-43cc-829c-be58eb1d064e",
   "metadata": {},
   "outputs": [],
   "source": []
  }
 ],
 "metadata": {
  "kernelspec": {
   "display_name": "Python 3 (ipykernel)",
   "language": "python",
   "name": "python3"
  },
  "language_info": {
   "codemirror_mode": {
    "name": "ipython",
    "version": 3
   },
   "file_extension": ".py",
   "mimetype": "text/x-python",
   "name": "python",
   "nbconvert_exporter": "python",
   "pygments_lexer": "ipython3",
   "version": "3.12.4"
  }
 },
 "nbformat": 4,
 "nbformat_minor": 5
}
